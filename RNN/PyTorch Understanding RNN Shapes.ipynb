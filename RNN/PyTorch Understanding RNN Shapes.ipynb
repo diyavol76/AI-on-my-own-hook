{
 "cells": [
  {
   "cell_type": "code",
   "execution_count": 1,
   "metadata": {
    "collapsed": true,
    "ExecuteTime": {
     "end_time": "2023-06-08T19:31:20.551863Z",
     "start_time": "2023-06-08T19:31:19.520610Z"
    }
   },
   "outputs": [],
   "source": [
    "import torch\n",
    "import torch.nn as nn\n",
    "import numpy as np\n",
    "import matplotlib.pyplot as plt"
   ]
  },
  {
   "cell_type": "code",
   "execution_count": 2,
   "outputs": [],
   "source": [
    "# Things you should automatically know and have memorized\n",
    "# N = number of samples\n",
    "# T = sequence length\n",
    "# D = number of input features\n",
    "# M = number of hidden units\n",
    "# K = number of output units"
   ],
   "metadata": {
    "collapsed": false,
    "ExecuteTime": {
     "end_time": "2023-06-08T19:31:20.553914Z",
     "start_time": "2023-06-08T19:31:20.552251Z"
    }
   }
  },
  {
   "cell_type": "code",
   "execution_count": 3,
   "outputs": [],
   "source": [
    "# Make some data\n",
    "N = 1\n",
    "T = 10\n",
    "D = 3\n",
    "M = 5\n",
    "K = 2\n",
    "X = np.random.randn(N, T, D)"
   ],
   "metadata": {
    "collapsed": false,
    "ExecuteTime": {
     "end_time": "2023-06-08T19:31:20.556702Z",
     "start_time": "2023-06-08T19:31:20.554764Z"
    }
   }
  },
  {
   "cell_type": "code",
   "execution_count": 4,
   "outputs": [
    {
     "data": {
      "text/plain": "(1, 10, 3)"
     },
     "execution_count": 4,
     "metadata": {},
     "output_type": "execute_result"
    }
   ],
   "source": [
    "X.shape"
   ],
   "metadata": {
    "collapsed": false,
    "ExecuteTime": {
     "end_time": "2023-06-08T19:31:20.560419Z",
     "start_time": "2023-06-08T19:31:20.558406Z"
    }
   }
  },
  {
   "cell_type": "code",
   "execution_count": 5,
   "outputs": [],
   "source": [
    "# Make an RNN\n",
    "class SimpleRNN(nn.Module):\n",
    "    def __init__(self, n_inputs, n_hidden, n_outputs):\n",
    "        super(SimpleRNN, self).__init__()\n",
    "        self.D = n_inputs\n",
    "        self.M = n_hidden\n",
    "        self.K = n_outputs\n",
    "        self.rnn = nn.RNN(\n",
    "            input_size=self.D,\n",
    "            hidden_size=self.M,\n",
    "            nonlinearity='tanh',\n",
    "            batch_first=True)\n",
    "        self.fc = nn.Linear(self.M, self.K)\n",
    "\n",
    "    def forward(self, X):\n",
    "        # initial hidden states\n",
    "        h0 = torch.zeros(1, X.size(0), self.M)\n",
    "\n",
    "\n",
    "        # get RNN unit output\n",
    "        out, _ = self.rnn(X, h0)\n",
    "\n",
    "        # we only want h(T) at the final time step\n",
    "        # out = self.fc(out[:, -1, :])\n",
    "        out = self.fc(out)\n",
    "        return out"
   ],
   "metadata": {
    "collapsed": false,
    "ExecuteTime": {
     "end_time": "2023-06-08T19:31:20.564516Z",
     "start_time": "2023-06-08T19:31:20.563022Z"
    }
   }
  },
  {
   "cell_type": "code",
   "execution_count": 6,
   "outputs": [],
   "source": [
    "# Instantiate the model\n",
    "model = SimpleRNN(n_inputs=D, n_hidden=M, n_outputs=K)"
   ],
   "metadata": {
    "collapsed": false,
    "ExecuteTime": {
     "end_time": "2023-06-08T19:31:20.567147Z",
     "start_time": "2023-06-08T19:31:20.565177Z"
    }
   }
  },
  {
   "cell_type": "code",
   "execution_count": 7,
   "outputs": [
    {
     "data": {
      "text/plain": "tensor([[[-0.2980, -0.1512],\n         [-0.6675, -0.2178],\n         [-0.1684,  0.2758],\n         [-0.4829, -0.1307],\n         [-0.1445, -0.2362],\n         [-0.7084, -0.3117],\n         [-0.2216, -0.0057],\n         [-0.1214, -0.3488],\n         [-0.4838, -0.1101],\n         [-0.4085, -0.4424]]], grad_fn=<ViewBackward0>)"
     },
     "execution_count": 7,
     "metadata": {},
     "output_type": "execute_result"
    }
   ],
   "source": [
    "# Get the output\n",
    "inputs = torch.from_numpy(X.astype(np.float32))\n",
    "out = model(inputs)\n",
    "out"
   ],
   "metadata": {
    "collapsed": false,
    "ExecuteTime": {
     "end_time": "2023-06-08T19:31:20.571568Z",
     "start_time": "2023-06-08T19:31:20.567825Z"
    }
   }
  },
  {
   "cell_type": "code",
   "execution_count": 8,
   "outputs": [
    {
     "data": {
      "text/plain": "torch.Size([1, 10, 2])"
     },
     "execution_count": 8,
     "metadata": {},
     "output_type": "execute_result"
    }
   ],
   "source": [
    "out.shape"
   ],
   "metadata": {
    "collapsed": false,
    "ExecuteTime": {
     "end_time": "2023-06-08T19:31:20.590187Z",
     "start_time": "2023-06-08T19:31:20.571898Z"
    }
   }
  },
  {
   "cell_type": "code",
   "execution_count": 9,
   "outputs": [],
   "source": [
    "\n",
    "# Save for later\n",
    "Yhats_torch = out.detach().numpy()"
   ],
   "metadata": {
    "collapsed": false,
    "ExecuteTime": {
     "end_time": "2023-06-08T19:31:20.590480Z",
     "start_time": "2023-06-08T19:31:20.574582Z"
    }
   }
  },
  {
   "cell_type": "code",
   "execution_count": 10,
   "outputs": [],
   "source": [
    "W_xh, W_hh, b_xh, b_hh = model.rnn.parameters()"
   ],
   "metadata": {
    "collapsed": false,
    "ExecuteTime": {
     "end_time": "2023-06-08T19:31:20.590540Z",
     "start_time": "2023-06-08T19:31:20.576767Z"
    }
   }
  },
  {
   "cell_type": "code",
   "execution_count": 11,
   "outputs": [
    {
     "data": {
      "text/plain": "torch.Size([5, 3])"
     },
     "execution_count": 11,
     "metadata": {},
     "output_type": "execute_result"
    }
   ],
   "source": [
    "W_xh.shape"
   ],
   "metadata": {
    "collapsed": false,
    "ExecuteTime": {
     "end_time": "2023-06-08T19:31:20.590685Z",
     "start_time": "2023-06-08T19:31:20.578966Z"
    }
   }
  },
  {
   "cell_type": "code",
   "execution_count": 12,
   "outputs": [
    {
     "data": {
      "text/plain": "Parameter containing:\ntensor([[ 0.1229, -0.1610, -0.3194],\n        [-0.4353, -0.4396, -0.2349],\n        [-0.3445, -0.0574, -0.3666],\n        [ 0.1775,  0.2865, -0.2325],\n        [-0.3590,  0.2284,  0.0559]], requires_grad=True)"
     },
     "execution_count": 12,
     "metadata": {},
     "output_type": "execute_result"
    }
   ],
   "source": [
    "W_xh"
   ],
   "metadata": {
    "collapsed": false,
    "ExecuteTime": {
     "end_time": "2023-06-08T19:31:20.590793Z",
     "start_time": "2023-06-08T19:31:20.581725Z"
    }
   }
  },
  {
   "cell_type": "code",
   "execution_count": 13,
   "outputs": [
    {
     "data": {
      "text/plain": "array([[ 0.12291408, -0.1610299 , -0.3193888 ],\n       [-0.43527004, -0.43961504, -0.23493043],\n       [-0.34448075, -0.0573996 , -0.36662662],\n       [ 0.17749107,  0.28654283, -0.23246112],\n       [-0.358966  ,  0.2283746 ,  0.0558511 ]], dtype=float32)"
     },
     "execution_count": 13,
     "metadata": {},
     "output_type": "execute_result"
    }
   ],
   "source": [
    "W_xh = W_xh.data.numpy()\n",
    "W_xh"
   ],
   "metadata": {
    "collapsed": false,
    "ExecuteTime": {
     "end_time": "2023-06-08T19:31:20.590902Z",
     "start_time": "2023-06-08T19:31:20.589923Z"
    }
   }
  },
  {
   "cell_type": "code",
   "execution_count": 14,
   "outputs": [],
   "source": [
    "b_xh = b_xh.data.numpy()\n",
    "W_hh = W_hh.data.numpy()\n",
    "b_hh = b_hh.data.numpy()"
   ],
   "metadata": {
    "collapsed": false,
    "ExecuteTime": {
     "end_time": "2023-06-08T19:31:20.597034Z",
     "start_time": "2023-06-08T19:31:20.590113Z"
    }
   }
  },
  {
   "cell_type": "code",
   "execution_count": 15,
   "outputs": [
    {
     "data": {
      "text/plain": "((5, 3), (5,), (5, 5), (5,))"
     },
     "execution_count": 15,
     "metadata": {},
     "output_type": "execute_result"
    }
   ],
   "source": [
    "# Did we do it right?\n",
    "W_xh.shape, b_xh.shape, W_hh.shape, b_hh.shape"
   ],
   "metadata": {
    "collapsed": false,
    "ExecuteTime": {
     "end_time": "2023-06-08T19:31:20.597273Z",
     "start_time": "2023-06-08T19:31:20.592588Z"
    }
   }
  },
  {
   "cell_type": "code",
   "execution_count": 16,
   "outputs": [],
   "source": [
    "# Now get the FC layer weights\n",
    "Wo, bo = model.fc.parameters()"
   ],
   "metadata": {
    "collapsed": false,
    "ExecuteTime": {
     "end_time": "2023-06-08T19:31:20.603690Z",
     "start_time": "2023-06-08T19:31:20.596088Z"
    }
   }
  },
  {
   "cell_type": "code",
   "execution_count": 17,
   "outputs": [
    {
     "data": {
      "text/plain": "((2, 5), (2,))"
     },
     "execution_count": 17,
     "metadata": {},
     "output_type": "execute_result"
    }
   ],
   "source": [
    "Wo = Wo.data.numpy()\n",
    "bo = bo.data.numpy()\n",
    "Wo.shape, bo.shape"
   ],
   "metadata": {
    "collapsed": false,
    "ExecuteTime": {
     "end_time": "2023-06-08T19:31:20.603944Z",
     "start_time": "2023-06-08T19:31:20.600319Z"
    }
   }
  },
  {
   "cell_type": "code",
   "execution_count": 18,
   "outputs": [
    {
     "name": "stdout",
     "output_type": "stream",
     "text": [
      "[[-0.2980089  -0.15115902]\n",
      " [-0.66750363 -0.21781065]\n",
      " [-0.16840073  0.27575078]\n",
      " [-0.48289198 -0.13070377]\n",
      " [-0.14450986 -0.23621114]\n",
      " [-0.70837086 -0.31172306]\n",
      " [-0.22159285 -0.00574892]\n",
      " [-0.12139882 -0.34876806]\n",
      " [-0.48375626 -0.11013   ]\n",
      " [-0.40848929 -0.44240513]]\n"
     ]
    }
   ],
   "source": [
    "# See if we can replicate the output\n",
    "h_last = np.zeros(M) # initial hidden state\n",
    "x = X[0] # the one and only sample\n",
    "Yhats = np.zeros((T, K)) # where we store the outputs\n",
    "\n",
    "for t in range(T):\n",
    "    h = np.tanh(x[t].dot(W_xh.T) + b_xh + h_last.dot(W_hh.T) + b_hh)\n",
    "    y = h.dot(Wo.T) + bo # we only care about this value on the last iteration\n",
    "    Yhats[t] = y\n",
    "\n",
    "    # important: assign h to h_last\n",
    "    h_last = h\n",
    "\n",
    "# print the final output\n",
    "print(Yhats)"
   ],
   "metadata": {
    "collapsed": false,
    "ExecuteTime": {
     "end_time": "2023-06-08T19:31:20.605759Z",
     "start_time": "2023-06-08T19:31:20.602971Z"
    }
   }
  },
  {
   "cell_type": "code",
   "execution_count": 19,
   "outputs": [
    {
     "data": {
      "text/plain": "True"
     },
     "execution_count": 19,
     "metadata": {},
     "output_type": "execute_result"
    }
   ],
   "source": [
    "# Check\n",
    "np.allclose(Yhats, Yhats_torch)"
   ],
   "metadata": {
    "collapsed": false,
    "ExecuteTime": {
     "end_time": "2023-06-08T19:31:20.609136Z",
     "start_time": "2023-06-08T19:31:20.606117Z"
    }
   }
  },
  {
   "cell_type": "code",
   "execution_count": 19,
   "outputs": [],
   "source": [],
   "metadata": {
    "collapsed": false,
    "ExecuteTime": {
     "end_time": "2023-06-08T19:31:20.638393Z",
     "start_time": "2023-06-08T19:31:20.609540Z"
    }
   }
  }
 ],
 "metadata": {
  "kernelspec": {
   "display_name": "Python 3",
   "language": "python",
   "name": "python3"
  },
  "language_info": {
   "codemirror_mode": {
    "name": "ipython",
    "version": 2
   },
   "file_extension": ".py",
   "mimetype": "text/x-python",
   "name": "python",
   "nbconvert_exporter": "python",
   "pygments_lexer": "ipython2",
   "version": "2.7.6"
  }
 },
 "nbformat": 4,
 "nbformat_minor": 0
}
