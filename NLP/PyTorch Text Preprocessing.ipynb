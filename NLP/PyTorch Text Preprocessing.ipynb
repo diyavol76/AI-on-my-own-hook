{
 "cells": [
  {
   "cell_type": "code",
   "execution_count": 1,
   "metadata": {
    "collapsed": true,
    "ExecuteTime": {
     "end_time": "2023-06-13T20:38:26.536260Z",
     "start_time": "2023-06-13T20:37:45.556167Z"
    }
   },
   "outputs": [
    {
     "name": "stdout",
     "output_type": "stream",
     "text": [
      "Collecting torchtext==0.8.1\r\n",
      "  Downloading torchtext-0.8.1-cp39-cp39-macosx_10_9_x86_64.whl (1.4 MB)\r\n",
      "\u001B[2K     \u001B[90m━━━━━━━━━━━━━━━━━━━━━━━━━━━━━━━━━━━━━━━━\u001B[0m \u001B[32m1.4/1.4 MB\u001B[0m \u001B[31m4.0 MB/s\u001B[0m eta \u001B[36m0:00:00\u001B[0m00:01\u001B[0m00:01\u001B[0m\r\n",
      "\u001B[?25hCollecting torch==1.7.1\r\n",
      "  Downloading torch-1.7.1-cp39-none-macosx_10_9_x86_64.whl (110.0 MB)\r\n",
      "\u001B[2K     \u001B[90m━━━━━━━━━━━━━━━━━━━━━━━━━━━━━━━━━━━━━━━\u001B[0m \u001B[32m110.0/110.0 MB\u001B[0m \u001B[31m4.5 MB/s\u001B[0m eta \u001B[36m0:00:00\u001B[0m00:01\u001B[0m00:01\u001B[0m\r\n",
      "\u001B[?25hRequirement already satisfied: requests in /Users/orhan.erdal/opt/anaconda3/lib/python3.9/site-packages (from torchtext==0.8.1) (2.21.0)\r\n",
      "Requirement already satisfied: tqdm in /Users/orhan.erdal/opt/anaconda3/lib/python3.9/site-packages (from torchtext==0.8.1) (4.64.1)\r\n",
      "Requirement already satisfied: numpy in /Users/orhan.erdal/opt/anaconda3/lib/python3.9/site-packages (from torchtext==0.8.1) (1.21.5)\r\n",
      "Requirement already satisfied: typing-extensions in /Users/orhan.erdal/opt/anaconda3/lib/python3.9/site-packages (from torch==1.7.1->torchtext==0.8.1) (4.3.0)\r\n",
      "Requirement already satisfied: urllib3<1.25,>=1.21.1 in /Users/orhan.erdal/opt/anaconda3/lib/python3.9/site-packages (from requests->torchtext==0.8.1) (1.24.3)\r\n",
      "Requirement already satisfied: idna<2.9,>=2.5 in /Users/orhan.erdal/opt/anaconda3/lib/python3.9/site-packages (from requests->torchtext==0.8.1) (2.8)\r\n",
      "Requirement already satisfied: certifi>=2017.4.17 in /Users/orhan.erdal/opt/anaconda3/lib/python3.9/site-packages (from requests->torchtext==0.8.1) (2022.9.24)\r\n",
      "Requirement already satisfied: chardet<3.1.0,>=3.0.2 in /Users/orhan.erdal/opt/anaconda3/lib/python3.9/site-packages (from requests->torchtext==0.8.1) (3.0.4)\r\n",
      "Installing collected packages: torch, torchtext\r\n",
      "  Attempting uninstall: torch\r\n",
      "    Found existing installation: torch 1.13.0\r\n",
      "    Uninstalling torch-1.13.0:\r\n",
      "      Successfully uninstalled torch-1.13.0\r\n",
      "\u001B[31mERROR: pip's dependency resolver does not currently take into account all the packages that are installed. This behaviour is the source of the following dependency conflicts.\r\n",
      "torchvision 0.14.0 requires torch==1.13.0, but you have torch 1.7.1 which is incompatible.\r\n",
      "torchmetrics 0.11.4 requires torch>=1.8.1, but you have torch 1.7.1 which is incompatible.\r\n",
      "torchaudio 0.13.0 requires torch==1.13.0, but you have torch 1.7.1 which is incompatible.\r\n",
      "pytorch-lightning 2.0.1.post0 requires torch>=1.11.0, but you have torch 1.7.1 which is incompatible.\u001B[0m\u001B[31m\r\n",
      "\u001B[0mSuccessfully installed torch-1.7.1 torchtext-0.8.1\r\n"
     ]
    }
   ],
   "source": [
    "!pip install torchtext==0.8.1"
   ]
  },
  {
   "cell_type": "code",
   "execution_count": 3,
   "outputs": [],
   "source": [
    "import torch\n",
    "import torch.nn as nn\n",
    "import torchtext.data as ttd\n",
    "import numpy as np\n",
    "import pandas as pd\n",
    "import matplotlib.pyplot as plt\n",
    "from datetime import datetime"
   ],
   "metadata": {
    "collapsed": false,
    "ExecuteTime": {
     "end_time": "2023-06-13T20:49:42.346995Z",
     "start_time": "2023-06-13T20:49:41.371197Z"
    }
   }
  },
  {
   "cell_type": "code",
   "execution_count": 4,
   "outputs": [],
   "source": [
    "# Let's make some fake data!\n",
    "data = {\n",
    "    \"label\": [0, 1, 1],\n",
    "    \"data\": [\n",
    "        \"I like eggs and ham.\",\n",
    "        \"Eggs I like!\",\n",
    "        \"Ham and eggs or just ham?\",\n",
    "    ]\n",
    "}"
   ],
   "metadata": {
    "collapsed": false,
    "ExecuteTime": {
     "end_time": "2023-06-13T20:50:02.373402Z",
     "start_time": "2023-06-13T20:50:02.369431Z"
    }
   }
  },
  {
   "cell_type": "code",
   "execution_count": 5,
   "outputs": [],
   "source": [
    "df = pd.DataFrame(data)"
   ],
   "metadata": {
    "collapsed": false,
    "ExecuteTime": {
     "end_time": "2023-06-13T20:50:08.512257Z",
     "start_time": "2023-06-13T20:50:08.505052Z"
    }
   }
  },
  {
   "cell_type": "code",
   "execution_count": 6,
   "outputs": [
    {
     "data": {
      "text/plain": "   label                       data\n0      0       I like eggs and ham.\n1      1               Eggs I like!\n2      1  Ham and eggs or just ham?",
      "text/html": "<div>\n<style scoped>\n    .dataframe tbody tr th:only-of-type {\n        vertical-align: middle;\n    }\n\n    .dataframe tbody tr th {\n        vertical-align: top;\n    }\n\n    .dataframe thead th {\n        text-align: right;\n    }\n</style>\n<table border=\"1\" class=\"dataframe\">\n  <thead>\n    <tr style=\"text-align: right;\">\n      <th></th>\n      <th>label</th>\n      <th>data</th>\n    </tr>\n  </thead>\n  <tbody>\n    <tr>\n      <th>0</th>\n      <td>0</td>\n      <td>I like eggs and ham.</td>\n    </tr>\n    <tr>\n      <th>1</th>\n      <td>1</td>\n      <td>Eggs I like!</td>\n    </tr>\n    <tr>\n      <th>2</th>\n      <td>1</td>\n      <td>Ham and eggs or just ham?</td>\n    </tr>\n  </tbody>\n</table>\n</div>"
     },
     "execution_count": 6,
     "metadata": {},
     "output_type": "execute_result"
    }
   ],
   "source": [
    "df.head()"
   ],
   "metadata": {
    "collapsed": false,
    "ExecuteTime": {
     "end_time": "2023-06-13T20:50:10.566158Z",
     "start_time": "2023-06-13T20:50:10.558681Z"
    }
   }
  },
  {
   "cell_type": "code",
   "execution_count": 7,
   "outputs": [],
   "source": [
    "df.to_csv('thedata.csv', index=False)"
   ],
   "metadata": {
    "collapsed": false,
    "ExecuteTime": {
     "end_time": "2023-06-13T20:50:15.680092Z",
     "start_time": "2023-06-13T20:50:15.668832Z"
    }
   }
  },
  {
   "cell_type": "code",
   "execution_count": 8,
   "outputs": [
    {
     "name": "stdout",
     "output_type": "stream",
     "text": [
      "label,data\r\n",
      "0,I like eggs and ham.\r\n",
      "1,Eggs I like!\r\n",
      "1,Ham and eggs or just ham?\r\n"
     ]
    }
   ],
   "source": [
    "!head thedata.csv"
   ],
   "metadata": {
    "collapsed": false,
    "ExecuteTime": {
     "end_time": "2023-06-13T20:50:21.734211Z",
     "start_time": "2023-06-13T20:50:21.594178Z"
    }
   }
  },
  {
   "cell_type": "code",
   "execution_count": null,
   "outputs": [],
   "source": [
    "TEXT = ttd.Field(\n",
    "    sequential=True,\n",
    "    batch_first=True,\n",
    "    lower=True,\n",
    "    tokenize='spacy',\n",
    "    pad_first=True)\n",
    "LABEL = ttd.Field(sequential=False, use_vocab=False, is_target=True)\n",
    "\n",
    "# Note: if you don't specify use_vocab=False, then PyTorch will\n",
    "# complain later when you try to iterate over the dataset that\n",
    "# the attribute `vocab` doesn't exist.\n",
    "\n",
    "# Note 2: if you don't specify is_target=True, then PyTorch will\n",
    "# assume it's part of the input, so when you iterate over the\n",
    "# dataset it will be like:\n",
    "# for (inputs, targets), _ in iterator:\n",
    "# where the 2nd element (_) should have been the target.\n",
    "\n",
    "dataset = ttd.TabularDataset(\n",
    "    path='thedata.csv',\n",
    "    format='csv',\n",
    "    skip_header=True,\n",
    "    fields=[('label', LABEL), ('data', TEXT)]\n",
    ")"
   ],
   "metadata": {
    "collapsed": false
   }
  },
  {
   "cell_type": "code",
   "execution_count": null,
   "outputs": [],
   "source": [
    "ex = dataset.examples[0]"
   ],
   "metadata": {
    "collapsed": false
   }
  },
  {
   "cell_type": "code",
   "execution_count": null,
   "outputs": [],
   "source": [
    "type(ex)"
   ],
   "metadata": {
    "collapsed": false
   }
  },
  {
   "cell_type": "code",
   "execution_count": null,
   "outputs": [],
   "source": [
    "ex.data"
   ],
   "metadata": {
    "collapsed": false
   }
  },
  {
   "cell_type": "code",
   "execution_count": null,
   "outputs": [],
   "source": [
    "ex.label"
   ],
   "metadata": {
    "collapsed": false
   }
  },
  {
   "cell_type": "code",
   "execution_count": null,
   "outputs": [],
   "source": [
    "train_dataset, test_dataset = dataset.split(0.66) # default is 0.7"
   ],
   "metadata": {
    "collapsed": false
   }
  },
  {
   "cell_type": "code",
   "execution_count": null,
   "outputs": [],
   "source": [
    "for ex in train_dataset.examples:\n",
    "    print(ex.data)"
   ],
   "metadata": {
    "collapsed": false
   }
  },
  {
   "cell_type": "code",
   "execution_count": null,
   "outputs": [],
   "source": [
    "TEXT.build_vocab(train_dataset,)"
   ],
   "metadata": {
    "collapsed": false
   }
  },
  {
   "cell_type": "code",
   "execution_count": null,
   "outputs": [],
   "source": [
    "vocab = TEXT.vocab\n",
    "type(vocab)"
   ],
   "metadata": {
    "collapsed": false
   }
  },
  {
   "cell_type": "code",
   "execution_count": null,
   "outputs": [],
   "source": [
    "vocab.stoi"
   ],
   "metadata": {
    "collapsed": false
   }
  },
  {
   "cell_type": "code",
   "execution_count": null,
   "outputs": [],
   "source": [
    "vocab.itos"
   ],
   "metadata": {
    "collapsed": false
   }
  },
  {
   "cell_type": "code",
   "execution_count": null,
   "outputs": [],
   "source": [
    "device = torch.device(\"cuda:0\" if torch.cuda.is_available() else \"cpu\")\n",
    "print(device)"
   ],
   "metadata": {
    "collapsed": false
   }
  },
  {
   "cell_type": "code",
   "execution_count": null,
   "outputs": [],
   "source": [
    "train_iter, test_iter = ttd.Iterator.splits(\n",
    "    (train_dataset, test_dataset), sort_key=lambda x: len(x.data),\n",
    "    batch_sizes=(2, 2), device=device)"
   ],
   "metadata": {
    "collapsed": false
   }
  },
  {
   "cell_type": "code",
   "execution_count": null,
   "outputs": [],
   "source": [
    "for inputs, targets in train_iter:\n",
    "    print(\"inputs:\", inputs, \"shape:\", inputs.shape)\n",
    "    print(\"targets:\", targets, \"shape:\", targets.shape)\n",
    "    break"
   ],
   "metadata": {
    "collapsed": false
   }
  },
  {
   "cell_type": "code",
   "execution_count": null,
   "outputs": [],
   "source": [
    "for inputs, targets in test_iter:\n",
    "    print(\"inputs:\", inputs, \"shape:\", inputs.shape)\n",
    "    print(\"targets:\", targets, \"shape:\", targets.shape)\n",
    "    break"
   ],
   "metadata": {
    "collapsed": false
   }
  },
  {
   "cell_type": "code",
   "execution_count": null,
   "outputs": [],
   "source": [
    "# Exericise: Figure out which sequence of integers goes with which sentence."
   ],
   "metadata": {
    "collapsed": false
   }
  }
 ],
 "metadata": {
  "kernelspec": {
   "display_name": "Python 3",
   "language": "python",
   "name": "python3"
  },
  "language_info": {
   "codemirror_mode": {
    "name": "ipython",
    "version": 2
   },
   "file_extension": ".py",
   "mimetype": "text/x-python",
   "name": "python",
   "nbconvert_exporter": "python",
   "pygments_lexer": "ipython2",
   "version": "2.7.6"
  }
 },
 "nbformat": 4,
 "nbformat_minor": 0
}
